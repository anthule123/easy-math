{
 "cells": [
  {
   "cell_type": "code",
   "execution_count": 722,
   "metadata": {},
   "outputs": [],
   "source": [
    "import numpy as np"
   ]
  },
  {
   "cell_type": "code",
   "execution_count": 723,
   "metadata": {},
   "outputs": [],
   "source": [
    "N = 4\n",
    "A = np.random.rand(N,N)"
   ]
  },
  {
   "cell_type": "code",
   "execution_count": 724,
   "metadata": {},
   "outputs": [],
   "source": [
    "while(np.linalg.matrix_rank(A)!=N):\n",
    "    A = np.random.rand(N,N)"
   ]
  },
  {
   "cell_type": "code",
   "execution_count": 725,
   "metadata": {},
   "outputs": [],
   "source": [
    "A_old = A"
   ]
  },
  {
   "cell_type": "code",
   "execution_count": 726,
   "metadata": {},
   "outputs": [],
   "source": [
    "A[:,[2,0]] = A[:,[0,2]]\n"
   ]
  },
  {
   "cell_type": "code",
   "execution_count": 727,
   "metadata": {},
   "outputs": [
    {
     "data": {
      "text/plain": [
       "array([[0.38164107, 0.5969474 , 0.08686001, 0.92176969],\n",
       "       [0.51311101, 0.85904722, 0.46971943, 0.04818951],\n",
       "       [0.92557307, 0.35036498, 0.20382689, 0.57971994],\n",
       "       [0.89626913, 0.13045303, 0.5897093 , 0.59899394]])"
      ]
     },
     "execution_count": 727,
     "metadata": {},
     "output_type": "execute_result"
    }
   ],
   "source": [
    "A"
   ]
  },
  {
   "cell_type": "code",
   "execution_count": 728,
   "metadata": {},
   "outputs": [],
   "source": [
    "A[[0,2],:] = A[[2,0], :]"
   ]
  },
  {
   "cell_type": "code",
   "execution_count": 729,
   "metadata": {},
   "outputs": [
    {
     "data": {
      "text/plain": [
       "array([[0.92557307, 0.35036498, 0.20382689, 0.57971994],\n",
       "       [0.51311101, 0.85904722, 0.46971943, 0.04818951],\n",
       "       [0.38164107, 0.5969474 , 0.08686001, 0.92176969],\n",
       "       [0.89626913, 0.13045303, 0.5897093 , 0.59899394]])"
      ]
     },
     "execution_count": 729,
     "metadata": {},
     "output_type": "execute_result"
    }
   ],
   "source": [
    "A"
   ]
  },
  {
   "cell_type": "code",
   "execution_count": 730,
   "metadata": {},
   "outputs": [
    {
     "data": {
      "text/plain": [
       "array([[1.85114613, 0.70072995, 0.40765379, 1.15943989],\n",
       "       [1.02622201, 1.71809444, 0.93943887, 0.09637901],\n",
       "       [0.76328214, 1.19389479, 0.17372001, 1.84353939],\n",
       "       [1.79253826, 0.26090606, 1.1794186 , 1.19798789]])"
      ]
     },
     "execution_count": 730,
     "metadata": {},
     "output_type": "execute_result"
    }
   ],
   "source": [
    "B =A\n",
    "A+B"
   ]
  },
  {
   "cell_type": "code",
   "execution_count": 731,
   "metadata": {},
   "outputs": [
    {
     "data": {
      "text/plain": [
       "array([[ 9.25573066e-01,  3.50364975e-01,  2.03826894e-01,\n",
       "         5.79719945e-01],\n",
       "       [ 0.00000000e+00,  6.64814987e-01,  3.56723685e-01,\n",
       "        -2.73190506e-01],\n",
       "       [ 0.00000000e+00, -5.55111512e-17, -2.39974536e-01,\n",
       "         8.68671016e-01],\n",
       "       [ 0.00000000e+00, -1.16674387e-16,  0.00000000e+00,\n",
       "         1.77760778e+00]])"
      ]
     },
     "execution_count": 731,
     "metadata": {},
     "output_type": "execute_result"
    }
   ],
   "source": [
    "#level 1 \n",
    "for i in range(0,N):\n",
    "    for j in range(i+1,N):\n",
    "        A[j,:] = A[j,:] - A[j,i]/A[i,i]*A[i,:]\n",
    "A"
   ]
  },
  {
   "cell_type": "code",
   "execution_count": 732,
   "metadata": {},
   "outputs": [],
   "source": [
    "#level 2\n",
    "A = A_old\n",
    "for i in range(0,N):\n",
    "    #find max\n",
    "    pos_max = [i,i]\n",
    "    valmax = abs(A[i,i])\n",
    "    for j in range(i,N):\n",
    "        for k in range(i,N):\n",
    "            v = abs(A[j][k])\n",
    "            if(v> valmax):\n",
    "                pos_max = [j,k]\n",
    "                valmax = v\n",
    "    if(pos_max[1]!= i):\n",
    "        A[:, [i,pos_max[1]]] =  A[:, [pos_max[1], i]]\n",
    "    if(pos_max[0]!= i):\n",
    "        A[[i,pos_max[0]], :] =  A[ [pos_max[0], i], :]       \n",
    "    for j in range(i+1,N):\n",
    "        A[j,:] = A[j,:] - (A[j,i]/A[i,i])*A[i,:]"
   ]
  },
  {
   "cell_type": "code",
   "execution_count": 733,
   "metadata": {},
   "outputs": [
    {
     "data": {
      "text/plain": [
       "array([[ 1.77760778e+00,  0.00000000e+00, -1.16674387e-16,\n",
       "         0.00000000e+00],\n",
       "       [ 0.00000000e+00,  9.25573066e-01,  3.50364975e-01,\n",
       "         2.03826894e-01],\n",
       "       [ 0.00000000e+00,  0.00000000e+00,  6.64814987e-01,\n",
       "         3.56723685e-01],\n",
       "       [ 0.00000000e+00,  0.00000000e+00,  0.00000000e+00,\n",
       "        -2.39974536e-01]])"
      ]
     },
     "execution_count": 733,
     "metadata": {},
     "output_type": "execute_result"
    }
   ],
   "source": [
    "A"
   ]
  },
  {
   "cell_type": "code",
   "execution_count": 734,
   "metadata": {},
   "outputs": [],
   "source": [
    "#level 3 : luu lai xoay hang, xoay cot, action_by_time\n",
    "pivot_row = np.zeros(N)\n",
    "pivot_col = np.zeros(N)\n",
    "action_by_time = np.zeros((N,N))\n",
    "\n",
    "A = A_old\n",
    "for i in range(0,N):\n",
    "    #find max\n",
    "    pos_max = [i,i]\n",
    "    valmax = abs(A[i,i])\n",
    "    for j in range(i,N):\n",
    "        for k in range(i,N):\n",
    "            v = abs(A[j][k])\n",
    "            if(v> valmax):\n",
    "                pos_max = [j,k]\n",
    "                valmax = v\n",
    "    pivot_row[i] = int(pos_max[0])\n",
    "    pivot_col[i] = int(pos_max[1])\n",
    "    if(pos_max[1]!= i):\n",
    "        A[:, [i,pos_max[1]]] =  A[:, [pos_max[1], i]]\n",
    "    if(pos_max[0]!= i):\n",
    "        A[[i,pos_max[0]], :] =  A[ [pos_max[0], i], :]       \n",
    "    for j in range(i+1,N):\n",
    "        A[j,:] = A[j,:] - (A[j,i]/A[i,i])*A[i,:]\n",
    "        action_by_time[j,i] = (A[j,i]/A[i,i])"
   ]
  },
  {
   "cell_type": "code",
   "execution_count": 735,
   "metadata": {},
   "outputs": [
    {
     "data": {
      "text/plain": [
       "array([[ 1.,  0.,  0.,  0.],\n",
       "       [ 0.,  1.,  0.,  0.],\n",
       "       [ 0.,  0.,  1.,  0.],\n",
       "       [-0., -0., -0.,  1.]])"
      ]
     },
     "execution_count": 735,
     "metadata": {},
     "output_type": "execute_result"
    }
   ],
   "source": [
    "for i in range(N-1,-1,-1):\n",
    "    A[i] = A[i]/A[i,i]\n",
    "    action_by_time[i,i] = A[i,i]\n",
    "    for j in range(i-1,-1,-1):\n",
    "        A[j] = A[j] - A[j,i]*A[i]    \n",
    "        action_by_time[j,i] = A[j,i]\n",
    "A"
   ]
  },
  {
   "cell_type": "code",
   "execution_count": 736,
   "metadata": {},
   "outputs": [
    {
     "data": {
      "text/plain": [
       "array([0., 1., 2., 3.])"
      ]
     },
     "execution_count": 736,
     "metadata": {},
     "output_type": "execute_result"
    }
   ],
   "source": [
    "index_x = np.zeros(N)\n",
    "for i in range(1,N):\n",
    "    index_x[i] = int(i)\n",
    "#index_x[[1,2] ]= index_x[[2,1]]\n",
    "index_x"
   ]
  },
  {
   "cell_type": "code",
   "execution_count": 737,
   "metadata": {},
   "outputs": [],
   "source": [
    "b = np.random.rand(N)\n",
    "b_old = b\n",
    "for i in range(0,N):\n",
    "    index_x[[i, int(pivot_col[i])]] = index_x[[int(pivot_col[i]), i]]\n",
    "    b[[i, int(pivot_row[i])] ] = b[[int(pivot_row[i]), i]]\n",
    "    for j in range(i+1,N):\n",
    "        b[j] = b[j] - action_by_time[j,i]*b[i]\n",
    "\n",
    "for i in range(N-1,-1,-1):\n",
    "    b[j] = b[j]/ action_by_time[i,i]\n",
    "    for j in range(i-1,-1,-1):\n",
    "         b[j] = b[j] - action_by_time[j,i]*b[i]\n",
    "\n",
    "x = np.zeros(N)\n",
    "for i in range(0,N):\n",
    "    x[int(index_x[i])] = b[i]\n"
   ]
  },
  {
   "cell_type": "code",
   "execution_count": 740,
   "metadata": {},
   "outputs": [
    {
     "data": {
      "text/plain": [
       "array([0., 0., 0., 0.])"
      ]
     },
     "execution_count": 740,
     "metadata": {},
     "output_type": "execute_result"
    }
   ],
   "source": [
    "A_old.dot(x) - b_old"
   ]
  }
 ],
 "metadata": {
  "kernelspec": {
   "display_name": "Python 3.10.4 64-bit",
   "language": "python",
   "name": "python3"
  },
  "language_info": {
   "codemirror_mode": {
    "name": "ipython",
    "version": 3
   },
   "file_extension": ".py",
   "mimetype": "text/x-python",
   "name": "python",
   "nbconvert_exporter": "python",
   "pygments_lexer": "ipython3",
   "version": "3.10.4"
  },
  "orig_nbformat": 4,
  "vscode": {
   "interpreter": {
    "hash": "ba248839fc308c5ec13dd0046a33f2b311c21367d6f0f2fe586fee2c97db693a"
   }
  }
 },
 "nbformat": 4,
 "nbformat_minor": 2
}
