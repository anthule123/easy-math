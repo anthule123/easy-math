{
 "cells": [
  {
   "cell_type": "code",
   "execution_count": 167,
   "metadata": {},
   "outputs": [],
   "source": [
    "import numpy as np\n",
    "import matplotlib.pyplot as plt\n",
    "import sparse_matrix_lib\n",
    "import givens_rotation_lib"
   ]
  },
  {
   "cell_type": "code",
   "execution_count": 168,
   "metadata": {},
   "outputs": [],
   "source": [
    "N=100\n",
    "b= np.random.rand(N)\n",
    "A = np.random.rand(N,N)\n",
    "As = sparse_matrix_lib.sparseMatrix(1,1)\n",
    "As.construct(A)"
   ]
  },
  {
   "cell_type": "code",
   "execution_count": 169,
   "metadata": {},
   "outputs": [
    {
     "data": {
      "text/plain": [
       "-0.290452914650419"
      ]
     },
     "execution_count": 169,
     "metadata": {},
     "output_type": "execute_result"
    }
   ],
   "source": [
    "so_buoc_lap = 90\n",
    "lb = np.linalg.norm(b)\n",
    "\n",
    "q = [b/lb]\n",
    "v = q[0]\n",
    "H = []\n",
    "angle = []\n",
    "be1 = np.zeros(N+1)\n",
    "be1[0] = lb\n",
    "sai_so = lb\n",
    "for i in range(1, so_buoc_lap):\n",
    "    v = As.mul_vector(v)\n",
    "    h_col = np.zeros(i+1)\n",
    "    for j in range(0,i):\n",
    "        do_dai_hinh_chieu = v.dot(q[j])\n",
    "        h_col[j]          = do_dai_hinh_chieu\n",
    "        v                 = v - q[j]*do_dai_hinh_chieu\n",
    "    remain = np.linalg.norm(v)\n",
    "    h_col[i] = remain\n",
    "    goc = givens_rotation_lib.rotate(h_col[i-1], h_col[i])\n",
    "    angle.append(goc)\n",
    "    h_col[i-1], h_col[i]       = givens_rotation_lib.rotate_action(h_col[i-1], h_col[i], goc)\n",
    "    be1[i-1], be1[i]           = givens_rotation_lib.rotate_action(be1[i-1], be1[i],goc)\n",
    "    sai_so = be1[i]\n",
    "    H.append(h_col)\n",
    "\n",
    "    if(remain <1e-12):\n",
    "        print(\"Full\")\n",
    "        break\n",
    "    if(abs(sai_so) < 1e-12):\n",
    "        print(\"Good enough\")\n",
    "    v/=remain\n",
    "    q.append(v)\n",
    "sai_so"
   ]
  },
  {
   "cell_type": "code",
   "execution_count": 170,
   "metadata": {},
   "outputs": [],
   "source": [
    "def GMRES_loop(bs, x0, so_buoc_lap):\n",
    "\n",
    "    b = x0\n",
    "    lb = np.linalg.norm(b)\n",
    "\n",
    "    q = [b/lb]\n",
    "    v = q[0]\n",
    "    H = []\n",
    "    angle = []\n",
    "    be1 = np.zeros(N+1)\n",
    "    be1[0] = lb\n",
    "    sai_so = lb\n",
    "    for i in range(1, so_buoc_lap):\n",
    "        v = bs.mul_vector(v)\n",
    "        h_col = np.zeros(i+1)\n",
    "        for j in range(0,i):\n",
    "            do_dai_hinh_chieu = v.dot(q[j])\n",
    "            h_col[j]          = do_dai_hinh_chieu\n",
    "            v                 = v - q[j]*do_dai_hinh_chieu\n",
    "        remain = np.linalg.norm(v)\n",
    "        h_col[i] = remain\n",
    "        goc = givens_rotation_lib.rotate(h_col[i-1], h_col[i])\n",
    "        angle.append(goc)\n",
    "        h_col[i-1], h_col[i]       = givens_rotation_lib.rotate_action(h_col[i-1], h_col[i], goc)\n",
    "        be1[i-1], be1[i]           = givens_rotation_lib.rotate_action(be1[i-1], be1[i],goc)\n",
    "        sai_so = be1[i]\n",
    "        H.append(h_col)\n",
    "\n",
    "        if(remain <1e-12):\n",
    "            print(\"Full\")\n",
    "            break\n",
    "        if(abs(sai_so) < 1e-12):\n",
    "            print(\"Good enough\")\n",
    "            break\n",
    "        v/=remain\n",
    "        q.append(v)\n",
    "    return sai_so\n",
    "    "
   ]
  }
 ],
 "metadata": {
  "interpreter": {
   "hash": "ba248839fc308c5ec13dd0046a33f2b311c21367d6f0f2fe586fee2c97db693a"
  },
  "kernelspec": {
   "display_name": "Python 3.10.4 64-bit",
   "language": "python",
   "name": "python3"
  },
  "language_info": {
   "codemirror_mode": {
    "name": "ipython",
    "version": 3
   },
   "file_extension": ".py",
   "mimetype": "text/x-python",
   "name": "python",
   "nbconvert_exporter": "python",
   "pygments_lexer": "ipython3",
   "version": "3.10.4"
  },
  "orig_nbformat": 4
 },
 "nbformat": 4,
 "nbformat_minor": 2
}
