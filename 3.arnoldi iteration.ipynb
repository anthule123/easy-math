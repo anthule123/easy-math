{
 "cells": [
  {
   "cell_type": "code",
   "execution_count": 199,
   "metadata": {},
   "outputs": [],
   "source": [
    "import numpy as np\n",
    "import matplotlib.pyplot as plt\n",
    "import sparse_matrix_lib"
   ]
  },
  {
   "cell_type": "code",
   "execution_count": 200,
   "metadata": {},
   "outputs": [],
   "source": [
    "N=10"
   ]
  },
  {
   "cell_type": "code",
   "execution_count": 201,
   "metadata": {},
   "outputs": [],
   "source": [
    "b= np.random.rand(N)"
   ]
  },
  {
   "cell_type": "code",
   "execution_count": 202,
   "metadata": {},
   "outputs": [],
   "source": [
    "A = np.random.rand(N,N)"
   ]
  },
  {
   "cell_type": "code",
   "execution_count": 203,
   "metadata": {},
   "outputs": [],
   "source": [
    "As = sparse_matrix_lib.sparseMatrix(1,1)\n",
    "As.construct(A)"
   ]
  },
  {
   "cell_type": "code",
   "execution_count": 204,
   "metadata": {},
   "outputs": [],
   "source": [
    "so_buoc_lap = 3\n",
    "lb = np.linalg.norm(b)\n",
    "\n",
    "q = [b/lb]\n",
    "v = q[0]\n",
    "H = np.zeros((so_buoc_lap + 1, so_buoc_lap))\n",
    "for i in range(1, so_buoc_lap):\n",
    "    v = As.mul_vector(v)\n",
    "    for j in range(0,i):\n",
    "        do_dai_hinh_chieu = v.dot(q[j])\n",
    "        H[j][i-1]         = do_dai_hinh_chieu\n",
    "        v                 = v - q[j]*do_dai_hinh_chieu\n",
    "    remain = np.linalg.norm(v)\n",
    "    if(remain <1e-12):\n",
    "        print(\"Full\")\n",
    "        break\n",
    "    v/=remain\n",
    "    q.append(v)\n"
   ]
  },
  {
   "cell_type": "code",
   "execution_count": 205,
   "metadata": {},
   "outputs": [
    {
     "data": {
      "text/plain": [
       "array([[3.98515742, 1.95281149, 0.        ],\n",
       "       [0.        , 1.54210479, 0.        ],\n",
       "       [0.        , 0.        , 0.        ],\n",
       "       [0.        , 0.        , 0.        ]])"
      ]
     },
     "execution_count": 205,
     "metadata": {},
     "output_type": "execute_result"
    }
   ],
   "source": [
    "H"
   ]
  }
 ],
 "metadata": {
  "interpreter": {
   "hash": "ba248839fc308c5ec13dd0046a33f2b311c21367d6f0f2fe586fee2c97db693a"
  },
  "kernelspec": {
   "display_name": "Python 3.10.4 64-bit",
   "language": "python",
   "name": "python3"
  },
  "language_info": {
   "codemirror_mode": {
    "name": "ipython",
    "version": 3
   },
   "file_extension": ".py",
   "mimetype": "text/x-python",
   "name": "python",
   "nbconvert_exporter": "python",
   "pygments_lexer": "ipython3",
   "version": "3.10.4"
  },
  "orig_nbformat": 4
 },
 "nbformat": 4,
 "nbformat_minor": 2
}
