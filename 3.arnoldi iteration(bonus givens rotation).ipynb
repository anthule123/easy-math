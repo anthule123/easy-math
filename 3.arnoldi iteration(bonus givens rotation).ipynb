{
 "cells": [
  {
   "cell_type": "code",
   "execution_count": 248,
   "metadata": {},
   "outputs": [],
   "source": [
    "import numpy as np\n",
    "import matplotlib.pyplot as plt\n",
    "import sparse_matrix_lib"
   ]
  },
  {
   "cell_type": "code",
   "execution_count": 235,
   "metadata": {},
   "outputs": [],
   "source": [
    "N=10"
   ]
  },
  {
   "cell_type": "code",
   "execution_count": 236,
   "metadata": {},
   "outputs": [],
   "source": [
    "b= np.random.rand(N)"
   ]
  },
  {
   "cell_type": "code",
   "execution_count": 237,
   "metadata": {},
   "outputs": [],
   "source": [
    "A = np.random.rand(N,N)"
   ]
  },
  {
   "cell_type": "code",
   "execution_count": 238,
   "metadata": {},
   "outputs": [],
   "source": [
    "As = sparse_matrix_lib.sparseMatrix(1,1)\n",
    "As.construct(A)"
   ]
  },
  {
   "cell_type": "code",
   "execution_count": 239,
   "metadata": {},
   "outputs": [],
   "source": [
    "so_buoc_lap = 6\n",
    "lb = np.linalg.norm(b)\n",
    "\n",
    "q = [b/lb]\n",
    "v = q[0]\n",
    "H = []\n",
    "for i in range(1, so_buoc_lap):\n",
    "    v = As.mul_vector(v)\n",
    "    h_col = np.zeros(i+1)\n",
    "    for j in range(0,i):\n",
    "        do_dai_hinh_chieu = v.dot(q[j])\n",
    "        h_col[j]       =   do_dai_hinh_chieu\n",
    "        v                 = v - q[j]*do_dai_hinh_chieu\n",
    "    remain = np.linalg.norm(v)\n",
    "    h_col[i] = remain\n",
    "    H.append(h_col)\n",
    "    if(remain <1e-12):\n",
    "        print(\"Full\")\n",
    "        break\n",
    "    v/=remain\n",
    "    q.append(v)\n"
   ]
  },
  {
   "cell_type": "code",
   "execution_count": 240,
   "metadata": {},
   "outputs": [
    {
     "data": {
      "text/plain": [
       "[array([3.53794983, 2.30620794]),\n",
       " array([1.95336653, 0.60309586, 1.17479272]),\n",
       " array([0.41320017, 0.24363615, 0.49878037, 0.9853694 ]),\n",
       " array([-0.75028322, -0.54965341, -0.2805709 , -0.27593956,  0.57877366]),\n",
       " array([-0.05590768,  0.18542119,  0.08406129, -0.32081456, -0.16412929,\n",
       "         0.88389538])]"
      ]
     },
     "execution_count": 240,
     "metadata": {},
     "output_type": "execute_result"
    }
   ],
   "source": [
    "H"
   ]
  },
  {
   "cell_type": "code",
   "execution_count": 241,
   "metadata": {},
   "outputs": [],
   "source": [
    "def rotate(x_old, y_old):\n",
    "    r = np.sqrt(x_old*x_old + y_old*y_old)\n",
    "    c = x_old/r\n",
    "    s = y_old/r\n",
    "    if x_old>0:\n",
    "        return [-c, s]\n",
    "    else:\n",
    "        return [c, -s]"
   ]
  },
  {
   "cell_type": "code",
   "execution_count": 242,
   "metadata": {},
   "outputs": [],
   "source": [
    "def rotate_action(x,y, goc):\n",
    "    [c1,s1] = goc\n",
    "    x_new = x*c1 -y*s1\n",
    "    y_new = x*s1 + y*c1\n",
    "    return [x_new,y_new]"
   ]
  },
  {
   "cell_type": "code",
   "execution_count": 243,
   "metadata": {},
   "outputs": [
    {
     "data": {
      "text/plain": [
       "array([-5.,  0.,  0.,  0.,  0.])"
      ]
     },
     "execution_count": 243,
     "metadata": {},
     "output_type": "execute_result"
    }
   ],
   "source": [
    "v = np.zeros(5)\n",
    "v[0],v[1] = rotate_action(5,0, rotate(5,0))\n",
    "v"
   ]
  },
  {
   "cell_type": "code",
   "execution_count": 244,
   "metadata": {},
   "outputs": [
    {
     "data": {
      "text/plain": [
       "[array([-4.22323148e+00, -2.22044605e-16]),\n",
       " array([ 1.95336653, -1.32055387,  0.        ]),\n",
       " array([ 0.41320017,  0.24363615, -1.10441601,  0.        ]),\n",
       " array([-0.75028322, -0.54965341, -0.2805709 ,  0.64118764,  0.        ]),\n",
       " array([-0.05590768,  0.18542119,  0.08406129, -0.32081456,  0.89900471,\n",
       "         0.        ])]"
      ]
     },
     "execution_count": 244,
     "metadata": {},
     "output_type": "execute_result"
    }
   ],
   "source": [
    "angle =[]\n",
    "for i in range(0, so_buoc_lap-1):\n",
    "    goc = rotate(H[i][i], H[i][i+1])\n",
    "    angle.append(goc)\n",
    "    H[i][i], H[i][i+1] = rotate_action(H[i][i], H[i][i+1], goc)\n",
    "H"
   ]
  },
  {
   "cell_type": "code",
   "execution_count": 245,
   "metadata": {},
   "outputs": [
    {
     "data": {
      "text/plain": [
       "1.0"
      ]
     },
     "execution_count": 245,
     "metadata": {},
     "output_type": "execute_result"
    }
   ],
   "source": [
    "angle[3][0]**2 + angle[3][1]**2"
   ]
  },
  {
   "cell_type": "code",
   "execution_count": 255,
   "metadata": {},
   "outputs": [
    {
     "data": {
      "text/plain": [
       "array([-1.68767349, -0.50241829, -0.44199464, -0.37578164, -0.78818894,\n",
       "        0.        ,  0.        ,  0.        ,  0.        ,  0.        ])"
      ]
     },
     "execution_count": 255,
     "metadata": {},
     "output_type": "execute_result"
    }
   ],
   "source": [
    "be1 = np.zeros(N)\n",
    "be1[0] = np.linalg.norm(b)\n",
    "for i in range(1, 5):\n",
    "    goc = angle[i-1]\n",
    "    be1[i-1], be1[i] = rotate_action(be1[i-1], be1[i], goc)\n",
    "be1"
   ]
  }
 ],
 "metadata": {
  "interpreter": {
   "hash": "ba248839fc308c5ec13dd0046a33f2b311c21367d6f0f2fe586fee2c97db693a"
  },
  "kernelspec": {
   "display_name": "Python 3.10.4 64-bit",
   "language": "python",
   "name": "python3"
  },
  "language_info": {
   "codemirror_mode": {
    "name": "ipython",
    "version": 3
   },
   "file_extension": ".py",
   "mimetype": "text/x-python",
   "name": "python",
   "nbconvert_exporter": "python",
   "pygments_lexer": "ipython3",
   "version": "3.10.4"
  },
  "orig_nbformat": 4
 },
 "nbformat": 4,
 "nbformat_minor": 2
}
