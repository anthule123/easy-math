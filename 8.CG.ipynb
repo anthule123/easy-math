{
 "cells": [
  {
   "cell_type": "code",
   "execution_count": 654,
   "metadata": {},
   "outputs": [],
   "source": [
    "import numpy as np\n",
    "import sparse_matrix_lib"
   ]
  },
  {
   "cell_type": "code",
   "execution_count": 655,
   "metadata": {},
   "outputs": [],
   "source": [
    "N=4\n",
    "b= np.random.rand(N)\n",
    "b_old = b\n",
    "A = np.random.rand(N,N)\n",
    "A = np.transpose(A).dot(A)"
   ]
  },
  {
   "cell_type": "code",
   "execution_count": 656,
   "metadata": {},
   "outputs": [],
   "source": [
    "As = sparse_matrix_lib.sparseMatrix(1,1)\n",
    "As.construct(A)"
   ]
  },
  {
   "cell_type": "code",
   "execution_count": 657,
   "metadata": {},
   "outputs": [
    {
     "data": {
      "text/plain": [
       "array([[2.29873254, 2.36335325, 1.49701171, 1.92849247],\n",
       "       [2.36335325, 2.72668716, 1.34667528, 2.13964398],\n",
       "       [1.49701171, 1.34667528, 1.38516613, 1.28737007],\n",
       "       [1.92849247, 2.13964398, 1.28737007, 1.98403093]])"
      ]
     },
     "execution_count": 657,
     "metadata": {},
     "output_type": "execute_result"
    }
   ],
   "source": [
    "A"
   ]
  },
  {
   "cell_type": "code",
   "execution_count": null,
   "metadata": {},
   "outputs": [],
   "source": []
  },
  {
   "cell_type": "code",
   "execution_count": 658,
   "metadata": {},
   "outputs": [],
   "source": [
    "so_buoc_lap = N+1\n",
    "\n",
    "x = []\n",
    "p = []\n",
    "r = []\n",
    "x.append(np.zeros(N))\n",
    "p.append(b)\n",
    "r.append(b)\n",
    "for i in range(1, so_buoc_lap):\n",
    "    v = As.mul_vector(p[i-1])\n",
    "    step_length = r[i-1].dot(r[i-1])/(p[i-1].dot(v))\n",
    "    x.append(x[i-1] + step_length*p[i-1])\n",
    "    r.append(r[i-1] - step_length*v)\n",
    "    beta = (r[i].dot(r[i]))/(r[i-1].dot(r[i-1]))\n",
    "    p.append(r[i] + p[i-1]*beta)\n"
   ]
  },
  {
   "cell_type": "code",
   "execution_count": 659,
   "metadata": {},
   "outputs": [
    {
     "data": {
      "text/plain": [
       "[array([0.42943083, 0.25220092, 0.95405685, 0.71612399]),\n",
       " array([-0.38792109, -0.58881384,  0.35377191, -0.03132676]),\n",
       " array([-0.12845487,  0.04186248, -0.05873452,  0.14053543]),\n",
       " array([-0.02133343,  0.02571364,  0.01765312, -0.01978129]),\n",
       " array([-8.74949418e-13, -9.37538241e-13, -5.81437676e-13, -7.94250082e-13])]"
      ]
     },
     "execution_count": 659,
     "metadata": {},
     "output_type": "execute_result"
    }
   ],
   "source": [
    "r"
   ]
  },
  {
   "cell_type": "code",
   "execution_count": 660,
   "metadata": {},
   "outputs": [
    {
     "data": {
      "text/plain": [
       "-7.979727989493313e-17"
      ]
     },
     "execution_count": 660,
     "metadata": {},
     "output_type": "execute_result"
    }
   ],
   "source": [
    "np.dot(r[0], r[1])"
   ]
  },
  {
   "cell_type": "code",
   "execution_count": 661,
   "metadata": {},
   "outputs": [
    {
     "data": {
      "text/plain": [
       "1.5265566588595902e-16"
      ]
     },
     "execution_count": 661,
     "metadata": {},
     "output_type": "execute_result"
    }
   ],
   "source": [
    "p[0].dot(A.dot(p[1]))"
   ]
  },
  {
   "cell_type": "code",
   "execution_count": 662,
   "metadata": {},
   "outputs": [],
   "source": [
    "def CG_solve(A,b):\n",
    "    so_buoc_lap = N+1\n",
    "    er = 1e-12\n",
    "    x = []\n",
    "    p = []\n",
    "    r = []\n",
    "    x.append(np.zeros(N))\n",
    "    p.append(b)\n",
    "    r.append(b)\n",
    "    for i in range(1, so_buoc_lap+1):\n",
    "        v = A.dot(p[i-1])\n",
    "        step_length = r[i-1].dot(r[i-1])/(p[i-1].dot(v))\n",
    "        x.append(x[i-1] + step_length*p[i-1])\n",
    "        r.append(r[i-1] - step_length*v)\n",
    "        if(np.linalg.norm(r[-1]) < er):\n",
    "            return x[i]\n",
    "        beta = (r[i].dot(r[i]))/(r[i-1].dot(r[i-1]))\n",
    "        p.append(r[i] + p[i-1]*beta)\n",
    "    return x[-1]"
   ]
  },
  {
   "cell_type": "code",
   "execution_count": 663,
   "metadata": {},
   "outputs": [
    {
     "data": {
      "text/plain": [
       "array([ 2.48233656e-11, -1.33584255e-11, -3.46052076e-11,  1.92039717e-11,\n",
       "        1.59917635e-11,  1.14124266e-11,  2.20775620e-11, -3.27842198e-11,\n",
       "       -2.25551799e-11,  7.32092165e-12])"
      ]
     },
     "execution_count": 663,
     "metadata": {},
     "output_type": "execute_result"
    }
   ],
   "source": [
    "N=10\n",
    "A=np.random.rand(N,N)\n",
    "b=np.random.rand(N)\n",
    "A = np.transpose(A).dot(A)\n",
    "x = CG_solve(A,b)\n",
    "A.dot(x) - b"
   ]
  }
 ],
 "metadata": {
  "kernelspec": {
   "display_name": "Python 3.10.4 64-bit",
   "language": "python",
   "name": "python3"
  },
  "language_info": {
   "codemirror_mode": {
    "name": "ipython",
    "version": 3
   },
   "file_extension": ".py",
   "mimetype": "text/x-python",
   "name": "python",
   "nbconvert_exporter": "python",
   "pygments_lexer": "ipython3",
   "version": "3.10.4"
  },
  "orig_nbformat": 4,
  "vscode": {
   "interpreter": {
    "hash": "ba248839fc308c5ec13dd0046a33f2b311c21367d6f0f2fe586fee2c97db693a"
   }
  }
 },
 "nbformat": 4,
 "nbformat_minor": 2
}
