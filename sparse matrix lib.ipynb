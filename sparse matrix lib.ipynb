{
 "cells": [
  {
   "cell_type": "code",
   "execution_count": 190,
   "metadata": {},
   "outputs": [],
   "source": [
    "import numpy as np\n",
    "import matplotlib.pyplot as plt"
   ]
  },
  {
   "cell_type": "code",
   "execution_count": 191,
   "metadata": {},
   "outputs": [],
   "source": [
    "class sparseMatrix:\n",
    "    so_hang = 1\n",
    "    so_cot  = 1\n",
    "    row_set =[]\n",
    "    def __init__(self, so_row,so_col):\n",
    "        self.so_hang = so_row\n",
    "        self.so_cot = so_col\n",
    "        for i in range(so_row):\n",
    "            self.row_set.append({})\n",
    "       \n",
    "    def construct(self,A):\n",
    "        self.so_hang, self.so_cot = A.shape\n",
    "        self.row_set = []\n",
    "        for i in range(0,self.so_hang):\n",
    "            self.row_set.append({})\n",
    "            for j in range(0,self.so_cot):\n",
    "                if(A[i,j]!=0):\n",
    "                    self.row_set[i][j] = A[i,j]\n",
    "    def update(self,vi_tri_hang, vi_tri_cot, gia_tri):\n",
    "        if(self.row_set[vi_tri_hang].get(vi_tri_cot)==None):\n",
    "            self.row_set[int(vi_tri_hang)][int(vi_tri_cot)] = gia_tri\n",
    "        else:\n",
    "            self.row_set[int(vi_tri_hang)][int(vi_tri_cot)] +=gia_tri\n",
    "    def mul_vector(self, b):\n",
    "        n = b.shape[0]\n",
    "        ans = np.zeros(n)\n",
    "        for i in range(0,n):\n",
    "            hang_i_items = self.row_set[i].items()\n",
    "            for key, value in hang_i_items:\n",
    "                ans[i] += b[int(key)] * value\n",
    "        return ans"
   ]
  }
 ],
 "metadata": {
  "interpreter": {
   "hash": "ba248839fc308c5ec13dd0046a33f2b311c21367d6f0f2fe586fee2c97db693a"
  },
  "kernelspec": {
   "display_name": "Python 3.10.4 64-bit",
   "language": "python",
   "name": "python3"
  },
  "language_info": {
   "codemirror_mode": {
    "name": "ipython",
    "version": 3
   },
   "file_extension": ".py",
   "mimetype": "text/x-python",
   "name": "python",
   "nbconvert_exporter": "python",
   "pygments_lexer": "ipython3",
   "version": "3.10.4"
  },
  "orig_nbformat": 4
 },
 "nbformat": 4,
 "nbformat_minor": 2
}
